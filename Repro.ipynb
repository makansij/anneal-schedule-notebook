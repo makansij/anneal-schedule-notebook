{
 "cells": [
  {
   "cell_type": "code",
   "execution_count": 1,
   "metadata": {},
   "outputs": [
    {
     "name": "stdout",
     "output_type": "stream",
     "text": [
      "Connected to sampler Advantage_system4.1\n"
     ]
    }
   ],
   "source": [
    "from dwave.system.samplers import DWaveSampler\n",
    "sampler = DWaveSampler()\n",
    "print(\"Connected to sampler\", sampler.solver.name)"
   ]
  },
  {
   "cell_type": "code",
   "execution_count": 2,
   "metadata": {},
   "outputs": [
    {
     "name": "stdout",
     "output_type": "stream",
     "text": [
      "Maximum anneal schedule points: 12\n"
     ]
    }
   ],
   "source": [
    "print(\"Maximum anneal schedule points: {}\".format(sampler.properties[\"max_anneal_schedule_points\"]))"
   ]
  },
  {
   "cell_type": "code",
   "execution_count": 9,
   "metadata": {},
   "outputs": [
    {
     "name": "stdout",
     "output_type": "stream",
     "text": [
      "{0: 1, 1: 1, 2: 1, 3: 1, 4: 1, 5: 1}\n"
     ]
    }
   ],
   "source": [
    "from dwave.system import DWaveSampler, EmbeddingComposite\n",
    "import dimod\n",
    "\n",
    "# Number of qubits in the loop\n",
    "num_qubits = 6\n",
    "\n",
    "# Frustrated loop Hamiltonian (ferromagnetic interactions with negative bonds between opposite qubits)\n",
    "h = {i: -1 for i in range(num_qubits)}  # Ferromagnetic bias\n",
    "J = {}\n",
    "\n",
    "# Add negative interactions (frustration) between opposite qubits\n",
    "for i in range(num_qubits):\n",
    "    J[(i, (i + num_qubits // 2) % num_qubits)] = -1\n",
    "\n",
    "alpha=0.3\n",
    "scaled_h = {i: alpha * hi for i, hi in h.items()}\n",
    "scaled_J = {(i, j): alpha * Jij for (i, j), Jij in J.items()}\n",
    "    \n",
    "# Create a binary quadratic model (BQM)\n",
    "bqm = dimod.BinaryQuadraticModel.from_qubo({(i, j): J.get((i, j), 0) for i in range(num_qubits) for j in range(i, num_qubits)})\n",
    "\n",
    "# Solve using D-Wave\n",
    "sampler = EmbeddingComposite(DWaveSampler())\n",
    "response = sampler.sample_ising(\n",
    "        scaled_h, scaled_J,\n",
    "        num_reads=1000,\n",
    "        anneal_schedule=[(0, 0), (40, 0.4), (100, 0.4), (140, 1.0)]  # With pause\n",
    "    )\n",
    "# response = sampler.sample(bqm, num_reads=1000)\n",
    "\n",
    "# Print results\n",
    "for sample in response.samples():\n",
    "    print(sample)\n"
   ]
  },
  {
   "cell_type": "code",
   "execution_count": 14,
   "metadata": {},
   "outputs": [
    {
     "data": {
      "text/plain": [
       "{(0, 3): -1, (1, 4): -1, (2, 5): -1, (3, 0): -1, (4, 1): -1, (5, 2): -1}"
      ]
     },
     "execution_count": 14,
     "metadata": {},
     "output_type": "execute_result"
    }
   ],
   "source": [
    "J"
   ]
  },
  {
   "cell_type": "code",
   "execution_count": 13,
   "metadata": {},
   "outputs": [
    {
     "data": {
      "text/plain": [
       "<generator object SampleSet.data at 0x348588680>"
      ]
     },
     "execution_count": 13,
     "metadata": {},
     "output_type": "execute_result"
    }
   ],
   "source": [
    "response.data()"
   ]
  },
  {
   "cell_type": "code",
   "execution_count": 11,
   "metadata": {
    "scrolled": true
   },
   "outputs": [
    {
     "data": {
      "text/plain": [
       "['_record',\n",
       " '_variables',\n",
       " '_info',\n",
       " '_vartype',\n",
       " '__module__',\n",
       " '__doc__',\n",
       " '_REQUIRED_FIELDS',\n",
       " '__init__',\n",
       " 'from_samples',\n",
       " 'from_samples_bqm',\n",
       " 'from_samples_cqm',\n",
       " 'from_future',\n",
       " '__len__',\n",
       " '__iter__',\n",
       " '__eq__',\n",
       " '__getstate__',\n",
       " '__repr__',\n",
       " '__str__',\n",
       " 'data_vectors',\n",
       " 'first',\n",
       " 'info',\n",
       " 'record',\n",
       " 'variables',\n",
       " 'vartype',\n",
       " 'done',\n",
       " 'samples',\n",
       " 'data',\n",
       " 'copy',\n",
       " 'change_vartype',\n",
       " 'filter',\n",
       " 'relabel_variables',\n",
       " 'resolve',\n",
       " 'aggregate',\n",
       " 'append_variables',\n",
       " 'lowest',\n",
       " 'truncate',\n",
       " 'slice',\n",
       " 'to_serializable',\n",
       " '_asdict',\n",
       " 'from_serializable',\n",
       " 'to_pandas_dataframe',\n",
       " '__dict__',\n",
       " '__weakref__',\n",
       " '__hash__',\n",
       " '__abstractmethods__',\n",
       " '_abc_impl',\n",
       " '__slots__',\n",
       " '__subclasshook__',\n",
       " '__class_getitem__',\n",
       " '__new__',\n",
       " '__getattribute__',\n",
       " '__setattr__',\n",
       " '__delattr__',\n",
       " '__lt__',\n",
       " '__le__',\n",
       " '__ne__',\n",
       " '__gt__',\n",
       " '__ge__',\n",
       " '__reduce_ex__',\n",
       " '__reduce__',\n",
       " '__init_subclass__',\n",
       " '__format__',\n",
       " '__sizeof__',\n",
       " '__dir__',\n",
       " '__class__']"
      ]
     },
     "execution_count": 11,
     "metadata": {},
     "output_type": "execute_result"
    }
   ],
   "source": [
    "response.__dir__()"
   ]
  },
  {
   "cell_type": "code",
   "execution_count": 10,
   "metadata": {},
   "outputs": [
    {
     "name": "stdout",
     "output_type": "stream",
     "text": [
      "   0  1  2  3  4  5 energy num_oc. chain_.\n",
      "0 +1 +1 +1 +1 +1 +1   -3.6       1     0.0\n",
      "['SPIN', 1 rows, 1 samples, 6 variables]\n"
     ]
    }
   ],
   "source": [
    "print(response)"
   ]
  },
  {
   "cell_type": "code",
   "execution_count": 6,
   "metadata": {},
   "outputs": [],
   "source": [
    "def get_success_pro(alpha, annealing_time):\n",
    "    pass\n",
    "    # return success_prob"
   ]
  },
  {
   "cell_type": "code",
   "execution_count": null,
   "metadata": {},
   "outputs": [],
   "source": []
  }
 ],
 "metadata": {
  "kernelspec": {
   "display_name": "Python 3 (ipykernel)",
   "language": "python",
   "name": "python3"
  },
  "language_info": {
   "codemirror_mode": {
    "name": "ipython",
    "version": 3
   },
   "file_extension": ".py",
   "mimetype": "text/x-python",
   "name": "python",
   "nbconvert_exporter": "python",
   "pygments_lexer": "ipython3",
   "version": "3.12.4"
  },
  "toc": {
   "base_numbering": 1,
   "nav_menu": {},
   "number_sections": true,
   "sideBar": true,
   "skip_h1_title": false,
   "title_cell": "Table of Contents",
   "title_sidebar": "Contents",
   "toc_cell": false,
   "toc_position": {},
   "toc_section_display": true,
   "toc_window_display": true
  }
 },
 "nbformat": 4,
 "nbformat_minor": 4
}
