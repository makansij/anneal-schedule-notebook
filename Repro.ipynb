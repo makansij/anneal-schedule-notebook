{
 "cells": [
  {
   "cell_type": "code",
   "execution_count": 1,
   "metadata": {},
   "outputs": [
    {
     "name": "stdout",
     "output_type": "stream",
     "text": [
      "Connected to sampler Advantage_system4.1\n"
     ]
    }
   ],
   "source": [
    "from dwave.system.samplers import DWaveSampler\n",
    "sampler = DWaveSampler()\n",
    "print(\"Connected to sampler\", sampler.solver.name)"
   ]
  },
  {
   "cell_type": "code",
   "execution_count": 2,
   "metadata": {},
   "outputs": [
    {
     "name": "stdout",
     "output_type": "stream",
     "text": [
      "Maximum anneal schedule points: 12\n"
     ]
    }
   ],
   "source": [
    "print(\"Maximum anneal schedule points: {}\".format(sampler.properties[\"max_anneal_schedule_points\"]))"
   ]
  },
  {
   "cell_type": "code",
   "execution_count": 5,
   "metadata": {},
   "outputs": [
    {
     "name": "stdout",
     "output_type": "stream",
     "text": [
      "{0: 1, 1: 1, 2: 1, 3: 1, 4: 1, 5: 1}\n"
     ]
    }
   ],
   "source": [
    "from dwave.system import DWaveSampler, EmbeddingComposite\n",
    "import dimod\n",
    "\n",
    "# Number of qubits in the loop\n",
    "num_qubits = 6\n",
    "\n",
    "# Frustrated loop Hamiltonian (ferromagnetic interactions with negative bonds between opposite qubits)\n",
    "h = {i: -1 for i in range(num_qubits)}  # Ferromagnetic bias\n",
    "J = {}\n",
    "\n",
    "# Add negative interactions (frustration) between opposite qubits\n",
    "for i in range(num_qubits):\n",
    "    J[(i, (i + num_qubits // 2) % num_qubits)] = -1\n",
    "\n",
    "# Create a binary quadratic model (BQM)\n",
    "bqm = dimod.BinaryQuadraticModel.from_qubo({(i, j): J.get((i, j), 0) for i in range(num_qubits) for j in range(i, num_qubits)})\n",
    "\n",
    "# Solve using D-Wave\n",
    "sampler = EmbeddingComposite(DWaveSampler())\n",
    "response = sampler.sample(bqm, num_reads=1000)\n",
    "\n",
    "# Print results\n",
    "for sample in response.samples():\n",
    "    print(sample)\n"
   ]
  },
  {
   "cell_type": "code",
   "execution_count": null,
   "metadata": {},
   "outputs": [],
   "source": []
  }
 ],
 "metadata": {
  "kernelspec": {
   "display_name": "Python 3 (ipykernel)",
   "language": "python",
   "name": "python3"
  },
  "language_info": {
   "codemirror_mode": {
    "name": "ipython",
    "version": 3
   },
   "file_extension": ".py",
   "mimetype": "text/x-python",
   "name": "python",
   "nbconvert_exporter": "python",
   "pygments_lexer": "ipython3",
   "version": "3.12.4"
  },
  "toc": {
   "base_numbering": 1,
   "nav_menu": {},
   "number_sections": true,
   "sideBar": true,
   "skip_h1_title": false,
   "title_cell": "Table of Contents",
   "title_sidebar": "Contents",
   "toc_cell": false,
   "toc_position": {},
   "toc_section_display": true,
   "toc_window_display": true
  }
 },
 "nbformat": 4,
 "nbformat_minor": 4
}
